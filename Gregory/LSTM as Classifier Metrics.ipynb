{
 "cells": [
  {
   "cell_type": "code",
   "execution_count": 5,
   "metadata": {
    "collapsed": true
   },
   "outputs": [],
   "source": [
    "import pandas as pd\n",
    "import numpy as np\n",
    "import sklearn\n",
    "from sklearn import metrics"
   ]
  },
  {
   "cell_type": "code",
   "execution_count": 2,
   "metadata": {
    "collapsed": true
   },
   "outputs": [],
   "source": [
    "LSTMasClassifier_data = pd.read_csv('/Users/gregdecanio/Desktop/CAP4770/Group7_Project/CAP4770Group7/lstm_classification.csv')"
   ]
  },
  {
   "cell_type": "markdown",
   "metadata": {},
   "source": [
    "# Classification Report and Confusion Matrix"
   ]
  },
  {
   "cell_type": "code",
   "execution_count": 7,
   "metadata": {},
   "outputs": [
    {
     "name": "stdout",
     "output_type": "stream",
     "text": [
      "Accuracy of LSTM Classifier:  0.8936 \n",
      "\n",
      "             precision    recall  f1-score   support\n",
      "\n",
      "          0       0.95      0.92      0.94     21064\n",
      "          1       0.64      0.76      0.69      3936\n",
      "\n",
      "avg / total       0.90      0.89      0.90     25000\n",
      "\n",
      "Confusion Matrix:\n",
      "[[19351  1713]\n",
      " [  947  2989]]\n"
     ]
    }
   ],
   "source": [
    "#Calculating Accuracy of LSTM model as classifier\n",
    "print \"Accuracy of LSTM Classifier: \", np.mean(LSTMasClassifier_data['LSTM_PRED'] == LSTMasClassifier_data['LSTM_TRUTH']), \"\\n\"\n",
    "\n",
    "#Calculating classification report (precision, recall, f1-score, support)\n",
    "print(metrics.classification_report(LSTMasClassifier_data['LSTM_TRUTH'],LSTMasClassifier_data['LSTM_PRED']))\n",
    "\n",
    "#Calculating confusion matrix \n",
    "print \"Confusion Matrix:\\n\", metrics.confusion_matrix(LSTMasClassifier_data['LSTM_TRUTH'],LSTMasClassifier_data['LSTM_PRED'])"
   ]
  }
 ],
 "metadata": {
  "kernelspec": {
   "display_name": "Python 2",
   "language": "python",
   "name": "python2"
  },
  "language_info": {
   "codemirror_mode": {
    "name": "ipython",
    "version": 2
   },
   "file_extension": ".py",
   "mimetype": "text/x-python",
   "name": "python",
   "nbconvert_exporter": "python",
   "pygments_lexer": "ipython2",
   "version": "2.7.14"
  }
 },
 "nbformat": 4,
 "nbformat_minor": 2
}
